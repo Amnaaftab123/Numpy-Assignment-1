{
  "nbformat": 4,
  "nbformat_minor": 0,
  "metadata": {
    "kernelspec": {
      "display_name": "Python 3",
      "language": "python",
      "name": "python3"
    },
    "language_info": {
      "codemirror_mode": {
        "name": "ipython",
        "version": 3
      },
      "file_extension": ".py",
      "mimetype": "text/x-python",
      "name": "python",
      "nbconvert_exporter": "python",
      "pygments_lexer": "ipython3",
      "version": "3.7.6"
    },
    "colab": {
      "name": "AmnAftab assignment 1.ipynb",
      "provenance": [],
      "collapsed_sections": []
    }
  },
  "cells": [
    {
      "cell_type": "code",
      "metadata": {
        "colab": {
          "base_uri": "https://localhost:8080/"
        },
        "id": "KbZ2nqk0AsRL",
        "outputId": "1c399e6f-1a1e-4742-d41d-637d0c6c46d6"
      },
      "source": [
        "import numpy as np\n",
        "np.array([1,2,3,4,5])"
      ],
      "execution_count": 1,
      "outputs": [
        {
          "output_type": "execute_result",
          "data": {
            "text/plain": [
              "array([1, 2, 3, 4, 5])"
            ]
          },
          "metadata": {
            "tags": []
          },
          "execution_count": 1
        }
      ]
    },
    {
      "cell_type": "code",
      "metadata": {
        "colab": {
          "base_uri": "https://localhost:8080/"
        },
        "id": "D7buNHCpAsRV",
        "outputId": "c468d61d-578c-4ab0-e4fb-ec63cf60b172"
      },
      "source": [
        "np.add(2,5)"
      ],
      "execution_count": 2,
      "outputs": [
        {
          "output_type": "execute_result",
          "data": {
            "text/plain": [
              "7"
            ]
          },
          "metadata": {
            "tags": []
          },
          "execution_count": 2
        }
      ]
    },
    {
      "cell_type": "code",
      "metadata": {
        "colab": {
          "base_uri": "https://localhost:8080/"
        },
        "id": "pUdTVsJ9AsRW",
        "outputId": "8663a07f-a7ed-4fc5-b219-3f515ad49ccb"
      },
      "source": [
        "np.subtract(4,7) "
      ],
      "execution_count": 3,
      "outputs": [
        {
          "output_type": "execute_result",
          "data": {
            "text/plain": [
              "-3"
            ]
          },
          "metadata": {
            "tags": []
          },
          "execution_count": 3
        }
      ]
    },
    {
      "cell_type": "code",
      "metadata": {
        "colab": {
          "base_uri": "https://localhost:8080/"
        },
        "id": "ab02LXxlAsRW",
        "outputId": "460c77ff-7fbd-4806-dce2-a4b02fe34c08"
      },
      "source": [
        "np.multiply(4,2)"
      ],
      "execution_count": 4,
      "outputs": [
        {
          "output_type": "execute_result",
          "data": {
            "text/plain": [
              "8"
            ]
          },
          "metadata": {
            "tags": []
          },
          "execution_count": 4
        }
      ]
    },
    {
      "cell_type": "code",
      "metadata": {
        "colab": {
          "base_uri": "https://localhost:8080/"
        },
        "id": "lw_3mqzIAsRX",
        "outputId": "43fc417e-7feb-47f1-e5d9-fdd2f12d93e1"
      },
      "source": [
        "np.zeros(10)"
      ],
      "execution_count": 5,
      "outputs": [
        {
          "output_type": "execute_result",
          "data": {
            "text/plain": [
              "array([0., 0., 0., 0., 0., 0., 0., 0., 0., 0.])"
            ]
          },
          "metadata": {
            "tags": []
          },
          "execution_count": 5
        }
      ]
    },
    {
      "cell_type": "code",
      "metadata": {
        "colab": {
          "base_uri": "https://localhost:8080/"
        },
        "id": "oW3_nBwvAsRX",
        "outputId": "9069f788-b4eb-47d5-b82b-02e7e107b21b"
      },
      "source": [
        "np.ones((3,5),dtype=float)"
      ],
      "execution_count": 6,
      "outputs": [
        {
          "output_type": "execute_result",
          "data": {
            "text/plain": [
              "array([[1., 1., 1., 1., 1.],\n",
              "       [1., 1., 1., 1., 1.],\n",
              "       [1., 1., 1., 1., 1.]])"
            ]
          },
          "metadata": {
            "tags": []
          },
          "execution_count": 6
        }
      ]
    },
    {
      "cell_type": "code",
      "metadata": {
        "colab": {
          "base_uri": "https://localhost:8080/"
        },
        "id": "jaVM9d6IAsRY",
        "outputId": "301f0484-ccfb-4b8e-d2b9-06341f011c22"
      },
      "source": [
        "np.full((4,2),54)"
      ],
      "execution_count": 7,
      "outputs": [
        {
          "output_type": "execute_result",
          "data": {
            "text/plain": [
              "array([[54, 54],\n",
              "       [54, 54],\n",
              "       [54, 54],\n",
              "       [54, 54]])"
            ]
          },
          "metadata": {
            "tags": []
          },
          "execution_count": 7
        }
      ]
    },
    {
      "cell_type": "code",
      "metadata": {
        "colab": {
          "base_uri": "https://localhost:8080/"
        },
        "id": "nYOHFlGuAsRZ",
        "outputId": "a8b87b88-a176-4128-ffe5-0eabd7c7cd49"
      },
      "source": [
        "np.arange(0,20,2)"
      ],
      "execution_count": 8,
      "outputs": [
        {
          "output_type": "execute_result",
          "data": {
            "text/plain": [
              "array([ 0,  2,  4,  6,  8, 10, 12, 14, 16, 18])"
            ]
          },
          "metadata": {
            "tags": []
          },
          "execution_count": 8
        }
      ]
    },
    {
      "cell_type": "code",
      "metadata": {
        "colab": {
          "base_uri": "https://localhost:8080/"
        },
        "id": "S2ARf00pAsRa",
        "outputId": "8e138f1d-462b-411d-a88e-518d1491f0e8"
      },
      "source": [
        "np.linspace(0,5,3)"
      ],
      "execution_count": 9,
      "outputs": [
        {
          "output_type": "execute_result",
          "data": {
            "text/plain": [
              "array([0. , 2.5, 5. ])"
            ]
          },
          "metadata": {
            "tags": []
          },
          "execution_count": 9
        }
      ]
    },
    {
      "cell_type": "code",
      "metadata": {
        "colab": {
          "base_uri": "https://localhost:8080/"
        },
        "id": "97ISSLxPAsRb",
        "outputId": "71f31df9-93a4-4c5a-9ee0-647270909bdf"
      },
      "source": [
        "np.random.random((3,6))"
      ],
      "execution_count": 10,
      "outputs": [
        {
          "output_type": "execute_result",
          "data": {
            "text/plain": [
              "array([[0.62299994, 0.75722214, 0.62735532, 0.04823603, 0.71571965,\n",
              "        0.92777343],\n",
              "       [0.33862718, 0.30285191, 0.49952986, 0.36494392, 0.82579605,\n",
              "        0.18462028],\n",
              "       [0.44040263, 0.73787606, 0.24734791, 0.1832878 , 0.9948938 ,\n",
              "        0.7499953 ]])"
            ]
          },
          "metadata": {
            "tags": []
          },
          "execution_count": 10
        }
      ]
    },
    {
      "cell_type": "code",
      "metadata": {
        "id": "kMrVd_mwAsRc"
      },
      "source": [
        "a=np.eye(4)"
      ],
      "execution_count": 11,
      "outputs": []
    },
    {
      "cell_type": "code",
      "metadata": {
        "colab": {
          "base_uri": "https://localhost:8080/"
        },
        "id": "I-dXIMUiAsRc",
        "outputId": "db0aeb24-c6f5-47f0-cf79-7c97ebbc7e3b"
      },
      "source": [
        "np.empty(3)"
      ],
      "execution_count": 12,
      "outputs": [
        {
          "output_type": "execute_result",
          "data": {
            "text/plain": [
              "array([0. , 2.5, 5. ])"
            ]
          },
          "metadata": {
            "tags": []
          },
          "execution_count": 12
        }
      ]
    },
    {
      "cell_type": "code",
      "metadata": {
        "colab": {
          "base_uri": "https://localhost:8080/"
        },
        "id": "1UrtalDyAsRc",
        "outputId": "aec36306-0303-45d6-c478-c2d437cd8b90"
      },
      "source": [
        "c=np.random.randint(0,10,(3,3))\n",
        "c"
      ],
      "execution_count": 13,
      "outputs": [
        {
          "output_type": "execute_result",
          "data": {
            "text/plain": [
              "array([[8, 4, 0],\n",
              "       [2, 5, 2],\n",
              "       [9, 6, 8]])"
            ]
          },
          "metadata": {
            "tags": []
          },
          "execution_count": 13
        }
      ]
    },
    {
      "cell_type": "code",
      "metadata": {
        "colab": {
          "base_uri": "https://localhost:8080/"
        },
        "id": "rZz8WHxmAsRd",
        "outputId": "96ad0649-a5cf-4923-8642-a5b231e40522"
      },
      "source": [
        "np.shape(a)"
      ],
      "execution_count": 14,
      "outputs": [
        {
          "output_type": "execute_result",
          "data": {
            "text/plain": [
              "(4, 4)"
            ]
          },
          "metadata": {
            "tags": []
          },
          "execution_count": 14
        }
      ]
    },
    {
      "cell_type": "code",
      "metadata": {
        "colab": {
          "base_uri": "https://localhost:8080/"
        },
        "id": "gzBp2pQlAsRd",
        "outputId": "75663945-c5b4-43f4-cf18-c03a9e13512b"
      },
      "source": [
        "np.size(a)"
      ],
      "execution_count": 15,
      "outputs": [
        {
          "output_type": "execute_result",
          "data": {
            "text/plain": [
              "16"
            ]
          },
          "metadata": {
            "tags": []
          },
          "execution_count": 15
        }
      ]
    },
    {
      "cell_type": "code",
      "metadata": {
        "colab": {
          "base_uri": "https://localhost:8080/"
        },
        "id": "8n0_unIBAsRe",
        "outputId": "26fc13bc-15f4-4959-a27a-b60dedfeb223"
      },
      "source": [
        "a.dtype"
      ],
      "execution_count": 16,
      "outputs": [
        {
          "output_type": "execute_result",
          "data": {
            "text/plain": [
              "dtype('float64')"
            ]
          },
          "metadata": {
            "tags": []
          },
          "execution_count": 16
        }
      ]
    },
    {
      "cell_type": "code",
      "metadata": {
        "colab": {
          "base_uri": "https://localhost:8080/"
        },
        "id": "y-Euron3AsRe",
        "outputId": "38a4ce6b-d5f0-4e05-9cce-8ead62206472"
      },
      "source": [
        "a.data"
      ],
      "execution_count": 17,
      "outputs": [
        {
          "output_type": "execute_result",
          "data": {
            "text/plain": [
              "<memory at 0x7f941255e3a8>"
            ]
          },
          "metadata": {
            "tags": []
          },
          "execution_count": 17
        }
      ]
    },
    {
      "cell_type": "code",
      "metadata": {
        "colab": {
          "base_uri": "https://localhost:8080/"
        },
        "id": "o6DemvyrAsRe",
        "outputId": "4399ab9a-3789-42cd-87fc-a24a49bd1025"
      },
      "source": [
        "a.itemsize"
      ],
      "execution_count": 18,
      "outputs": [
        {
          "output_type": "execute_result",
          "data": {
            "text/plain": [
              "8"
            ]
          },
          "metadata": {
            "tags": []
          },
          "execution_count": 18
        }
      ]
    },
    {
      "cell_type": "code",
      "metadata": {
        "colab": {
          "base_uri": "https://localhost:8080/"
        },
        "id": "jlQ4xXHvAsRf",
        "outputId": "ce0ac454-387c-4dc9-cc6e-24928c5cc571"
      },
      "source": [
        "a.ndim"
      ],
      "execution_count": 19,
      "outputs": [
        {
          "output_type": "execute_result",
          "data": {
            "text/plain": [
              "2"
            ]
          },
          "metadata": {
            "tags": []
          },
          "execution_count": 19
        }
      ]
    },
    {
      "cell_type": "code",
      "metadata": {
        "colab": {
          "base_uri": "https://localhost:8080/"
        },
        "id": "aW9hSmv0AsRf",
        "outputId": "7053175d-092e-4e45-c2e8-a13eed0f504b"
      },
      "source": [
        "b=np.random.default_rng(1)\n",
        "b"
      ],
      "execution_count": 20,
      "outputs": [
        {
          "output_type": "execute_result",
          "data": {
            "text/plain": [
              "Generator(PCG64) at 0x7F9411C3E048"
            ]
          },
          "metadata": {
            "tags": []
          },
          "execution_count": 20
        }
      ]
    },
    {
      "cell_type": "code",
      "metadata": {
        "colab": {
          "base_uri": "https://localhost:8080/"
        },
        "id": "4HVzxHoEAsRf",
        "outputId": "0cd62435-0bee-48f9-ed16-c2d3f97b5d1c"
      },
      "source": [
        "c=np.random.randint(0,10,(3,3))\n",
        "c"
      ],
      "execution_count": 21,
      "outputs": [
        {
          "output_type": "execute_result",
          "data": {
            "text/plain": [
              "array([[8, 1, 0],\n",
              "       [0, 0, 8],\n",
              "       [8, 5, 0]])"
            ]
          },
          "metadata": {
            "tags": []
          },
          "execution_count": 21
        }
      ]
    },
    {
      "cell_type": "code",
      "metadata": {
        "colab": {
          "base_uri": "https://localhost:8080/"
        },
        "id": "B4doTR9BAsRg",
        "outputId": "c2ba8fa0-0ca8-424b-e313-6abd33559de6"
      },
      "source": [
        "c.min()"
      ],
      "execution_count": 22,
      "outputs": [
        {
          "output_type": "execute_result",
          "data": {
            "text/plain": [
              "0"
            ]
          },
          "metadata": {
            "tags": []
          },
          "execution_count": 22
        }
      ]
    },
    {
      "cell_type": "code",
      "metadata": {
        "colab": {
          "base_uri": "https://localhost:8080/"
        },
        "id": "6y-oayBqAsRg",
        "outputId": "eeee2ac5-3988-4a1b-c8fe-2f8b33cc92d7"
      },
      "source": [
        "c.max()"
      ],
      "execution_count": 23,
      "outputs": [
        {
          "output_type": "execute_result",
          "data": {
            "text/plain": [
              "8"
            ]
          },
          "metadata": {
            "tags": []
          },
          "execution_count": 23
        }
      ]
    },
    {
      "cell_type": "code",
      "metadata": {
        "colab": {
          "base_uri": "https://localhost:8080/"
        },
        "id": "HEwcRmdgAsRg",
        "outputId": "9e371e54-155d-47d6-a6ce-7c74d86f0729"
      },
      "source": [
        "c.mean()"
      ],
      "execution_count": 24,
      "outputs": [
        {
          "output_type": "execute_result",
          "data": {
            "text/plain": [
              "3.3333333333333335"
            ]
          },
          "metadata": {
            "tags": []
          },
          "execution_count": 24
        }
      ]
    },
    {
      "cell_type": "code",
      "metadata": {
        "colab": {
          "base_uri": "https://localhost:8080/"
        },
        "id": "PpfN8vnQAsRh",
        "outputId": "94b635f4-c517-45a0-a64b-38daebddbaeb"
      },
      "source": [
        "c.sum()"
      ],
      "execution_count": 25,
      "outputs": [
        {
          "output_type": "execute_result",
          "data": {
            "text/plain": [
              "30"
            ]
          },
          "metadata": {
            "tags": []
          },
          "execution_count": 25
        }
      ]
    },
    {
      "cell_type": "code",
      "metadata": {
        "colab": {
          "base_uri": "https://localhost:8080/"
        },
        "id": "sRwo3kTAAsRh",
        "outputId": "3d66c2f9-3034-4c2f-c40b-6ae76cb4d1b8"
      },
      "source": [
        "np.exp(c)"
      ],
      "execution_count": 26,
      "outputs": [
        {
          "output_type": "execute_result",
          "data": {
            "text/plain": [
              "array([[2.98095799e+03, 2.71828183e+00, 1.00000000e+00],\n",
              "       [1.00000000e+00, 1.00000000e+00, 2.98095799e+03],\n",
              "       [2.98095799e+03, 1.48413159e+02, 1.00000000e+00]])"
            ]
          },
          "metadata": {
            "tags": []
          },
          "execution_count": 26
        }
      ]
    },
    {
      "cell_type": "code",
      "metadata": {
        "colab": {
          "base_uri": "https://localhost:8080/"
        },
        "id": "JF8OOVseAsRh",
        "outputId": "475b9248-4cfc-4f05-ab9b-f5a89027f7f9"
      },
      "source": [
        "np.random.seed(0)\n",
        "np.random.random((3,5))"
      ],
      "execution_count": 27,
      "outputs": [
        {
          "output_type": "execute_result",
          "data": {
            "text/plain": [
              "array([[0.5488135 , 0.71518937, 0.60276338, 0.54488318, 0.4236548 ],\n",
              "       [0.64589411, 0.43758721, 0.891773  , 0.96366276, 0.38344152],\n",
              "       [0.79172504, 0.52889492, 0.56804456, 0.92559664, 0.07103606]])"
            ]
          },
          "metadata": {
            "tags": []
          },
          "execution_count": 27
        }
      ]
    },
    {
      "cell_type": "code",
      "metadata": {
        "colab": {
          "base_uri": "https://localhost:8080/"
        },
        "id": "Z1hDdMFEAsRi",
        "outputId": "ba3414e8-b760-471a-d18a-841df26a1ba5"
      },
      "source": [
        "c.ravel()"
      ],
      "execution_count": 28,
      "outputs": [
        {
          "output_type": "execute_result",
          "data": {
            "text/plain": [
              "array([8, 1, 0, 0, 0, 8, 8, 5, 0])"
            ]
          },
          "metadata": {
            "tags": []
          },
          "execution_count": 28
        }
      ]
    },
    {
      "cell_type": "code",
      "metadata": {
        "colab": {
          "base_uri": "https://localhost:8080/"
        },
        "id": "ReG0Ou4OAsRi",
        "outputId": "19beeb56-4fa8-4b0f-8f05-72ea99e713c3"
      },
      "source": [
        "np.abs(c)"
      ],
      "execution_count": 29,
      "outputs": [
        {
          "output_type": "execute_result",
          "data": {
            "text/plain": [
              "array([[8, 1, 0],\n",
              "       [0, 0, 8],\n",
              "       [8, 5, 0]])"
            ]
          },
          "metadata": {
            "tags": []
          },
          "execution_count": 29
        }
      ]
    },
    {
      "cell_type": "code",
      "metadata": {
        "colab": {
          "base_uri": "https://localhost:8080/"
        },
        "id": "dAJ6MNdrAsRi",
        "outputId": "8af3f5b1-bcc9-40d7-ac3d-d80628c728e4"
      },
      "source": [
        "np.pi"
      ],
      "execution_count": 30,
      "outputs": [
        {
          "output_type": "execute_result",
          "data": {
            "text/plain": [
              "3.141592653589793"
            ]
          },
          "metadata": {
            "tags": []
          },
          "execution_count": 30
        }
      ]
    },
    {
      "cell_type": "code",
      "metadata": {
        "colab": {
          "base_uri": "https://localhost:8080/"
        },
        "id": "oEM_-YzxAsRj",
        "outputId": "13c4927c-d902-4088-ec0f-921358057f1f"
      },
      "source": [
        "np.sin(c)"
      ],
      "execution_count": 31,
      "outputs": [
        {
          "output_type": "execute_result",
          "data": {
            "text/plain": [
              "array([[ 0.98935825,  0.84147098,  0.        ],\n",
              "       [ 0.        ,  0.        ,  0.98935825],\n",
              "       [ 0.98935825, -0.95892427,  0.        ]])"
            ]
          },
          "metadata": {
            "tags": []
          },
          "execution_count": 31
        }
      ]
    },
    {
      "cell_type": "code",
      "metadata": {
        "colab": {
          "base_uri": "https://localhost:8080/"
        },
        "id": "Nkwmmf8pAsRj",
        "outputId": "0915ae5d-cc6f-4fea-e373-fa26dba10be6"
      },
      "source": [
        "np.cos(c)"
      ],
      "execution_count": 32,
      "outputs": [
        {
          "output_type": "execute_result",
          "data": {
            "text/plain": [
              "array([[-0.14550003,  0.54030231,  1.        ],\n",
              "       [ 1.        ,  1.        , -0.14550003],\n",
              "       [-0.14550003,  0.28366219,  1.        ]])"
            ]
          },
          "metadata": {
            "tags": []
          },
          "execution_count": 32
        }
      ]
    },
    {
      "cell_type": "code",
      "metadata": {
        "colab": {
          "base_uri": "https://localhost:8080/"
        },
        "id": "5Pa3XwOzAsRj",
        "outputId": "c9a01152-8ba7-4bd1-ee75-4c6c4d8deded"
      },
      "source": [
        "np.tan(c)"
      ],
      "execution_count": 33,
      "outputs": [
        {
          "output_type": "execute_result",
          "data": {
            "text/plain": [
              "array([[-6.79971146,  1.55740772,  0.        ],\n",
              "       [ 0.        ,  0.        , -6.79971146],\n",
              "       [-6.79971146, -3.38051501,  0.        ]])"
            ]
          },
          "metadata": {
            "tags": []
          },
          "execution_count": 33
        }
      ]
    },
    {
      "cell_type": "code",
      "metadata": {
        "colab": {
          "base_uri": "https://localhost:8080/"
        },
        "id": "l1XOznKQAsRk",
        "outputId": "dadfad49-7985-4c7f-9e23-c3567a87c9d1"
      },
      "source": [
        "np.arcsin(0.5)"
      ],
      "execution_count": 34,
      "outputs": [
        {
          "output_type": "execute_result",
          "data": {
            "text/plain": [
              "0.5235987755982989"
            ]
          },
          "metadata": {
            "tags": []
          },
          "execution_count": 34
        }
      ]
    },
    {
      "cell_type": "code",
      "metadata": {
        "colab": {
          "base_uri": "https://localhost:8080/"
        },
        "id": "stifencJAsRk",
        "outputId": "9276868b-847b-41d0-cd3d-b3b66a7cb504"
      },
      "source": [
        "np.arccos(0.5)"
      ],
      "execution_count": 35,
      "outputs": [
        {
          "output_type": "execute_result",
          "data": {
            "text/plain": [
              "1.0471975511965979"
            ]
          },
          "metadata": {
            "tags": []
          },
          "execution_count": 35
        }
      ]
    },
    {
      "cell_type": "code",
      "metadata": {
        "colab": {
          "base_uri": "https://localhost:8080/"
        },
        "id": "OkekOe3fAsRk",
        "outputId": "7d5d733b-feb5-474a-8249-d1947f34c38e"
      },
      "source": [
        "np.arctan(0.5)"
      ],
      "execution_count": 36,
      "outputs": [
        {
          "output_type": "execute_result",
          "data": {
            "text/plain": [
              "0.4636476090008061"
            ]
          },
          "metadata": {
            "tags": []
          },
          "execution_count": 36
        }
      ]
    },
    {
      "cell_type": "code",
      "metadata": {
        "colab": {
          "base_uri": "https://localhost:8080/"
        },
        "id": "PcjYmlvMAsRk",
        "outputId": "561bd23e-8710-4efa-b730-0e3218736974"
      },
      "source": [
        "np.log(c)"
      ],
      "execution_count": 37,
      "outputs": [
        {
          "output_type": "stream",
          "text": [
            "/usr/local/lib/python3.6/dist-packages/ipykernel_launcher.py:1: RuntimeWarning: divide by zero encountered in log\n",
            "  \"\"\"Entry point for launching an IPython kernel.\n"
          ],
          "name": "stderr"
        },
        {
          "output_type": "execute_result",
          "data": {
            "text/plain": [
              "array([[2.07944154, 0.        ,       -inf],\n",
              "       [      -inf,       -inf, 2.07944154],\n",
              "       [2.07944154, 1.60943791,       -inf]])"
            ]
          },
          "metadata": {
            "tags": []
          },
          "execution_count": 37
        }
      ]
    },
    {
      "cell_type": "code",
      "metadata": {
        "colab": {
          "base_uri": "https://localhost:8080/"
        },
        "id": "jF-UD0q2AsRl",
        "outputId": "d051540e-2e5b-455a-8eed-23ddda445c66"
      },
      "source": [
        "np.log2(c)"
      ],
      "execution_count": 38,
      "outputs": [
        {
          "output_type": "stream",
          "text": [
            "/usr/local/lib/python3.6/dist-packages/ipykernel_launcher.py:1: RuntimeWarning: divide by zero encountered in log2\n",
            "  \"\"\"Entry point for launching an IPython kernel.\n"
          ],
          "name": "stderr"
        },
        {
          "output_type": "execute_result",
          "data": {
            "text/plain": [
              "array([[3.        , 0.        ,       -inf],\n",
              "       [      -inf,       -inf, 3.        ],\n",
              "       [3.        , 2.32192809,       -inf]])"
            ]
          },
          "metadata": {
            "tags": []
          },
          "execution_count": 38
        }
      ]
    },
    {
      "cell_type": "code",
      "metadata": {
        "colab": {
          "base_uri": "https://localhost:8080/"
        },
        "id": "oxovKZkSAsRl",
        "outputId": "013820c8-56af-4da9-e826-d16247185671"
      },
      "source": [
        "np.log10(c)"
      ],
      "execution_count": 39,
      "outputs": [
        {
          "output_type": "stream",
          "text": [
            "/usr/local/lib/python3.6/dist-packages/ipykernel_launcher.py:1: RuntimeWarning: divide by zero encountered in log10\n",
            "  \"\"\"Entry point for launching an IPython kernel.\n"
          ],
          "name": "stderr"
        },
        {
          "output_type": "execute_result",
          "data": {
            "text/plain": [
              "array([[0.90308999, 0.        ,       -inf],\n",
              "       [      -inf,       -inf, 0.90308999],\n",
              "       [0.90308999, 0.69897   ,       -inf]])"
            ]
          },
          "metadata": {
            "tags": []
          },
          "execution_count": 39
        }
      ]
    },
    {
      "cell_type": "code",
      "metadata": {
        "colab": {
          "base_uri": "https://localhost:8080/"
        },
        "id": "3fS60TJlAsRl",
        "outputId": "c2e08643-e5a9-4507-ea26-66f8e9b14600"
      },
      "source": [
        "np.add.reduce(c)"
      ],
      "execution_count": 40,
      "outputs": [
        {
          "output_type": "execute_result",
          "data": {
            "text/plain": [
              "array([16,  6,  8])"
            ]
          },
          "metadata": {
            "tags": []
          },
          "execution_count": 40
        }
      ]
    },
    {
      "cell_type": "code",
      "metadata": {
        "colab": {
          "base_uri": "https://localhost:8080/"
        },
        "id": "L-fTA94CAsRm",
        "outputId": "e462999a-7998-4439-9b0f-846c87bef4f8"
      },
      "source": [
        "np.multiply.reduce(c)"
      ],
      "execution_count": 41,
      "outputs": [
        {
          "output_type": "execute_result",
          "data": {
            "text/plain": [
              "array([0, 0, 0])"
            ]
          },
          "metadata": {
            "tags": []
          },
          "execution_count": 41
        }
      ]
    },
    {
      "cell_type": "code",
      "metadata": {
        "colab": {
          "base_uri": "https://localhost:8080/"
        },
        "id": "MlFxq-F_AsRm",
        "outputId": "3fc40ac7-b3a7-42dc-c3fb-3c820d950323"
      },
      "source": [
        "np.add.accumulate(c)"
      ],
      "execution_count": 42,
      "outputs": [
        {
          "output_type": "execute_result",
          "data": {
            "text/plain": [
              "array([[ 8,  1,  0],\n",
              "       [ 8,  1,  8],\n",
              "       [16,  6,  8]])"
            ]
          },
          "metadata": {
            "tags": []
          },
          "execution_count": 42
        }
      ]
    },
    {
      "cell_type": "code",
      "metadata": {
        "colab": {
          "base_uri": "https://localhost:8080/"
        },
        "id": "Biy9NRWOAsRm",
        "outputId": "dcdd062b-02b6-4c38-8762-d25785bb80c3"
      },
      "source": [
        "np.multiply.accumulate(c)"
      ],
      "execution_count": 43,
      "outputs": [
        {
          "output_type": "execute_result",
          "data": {
            "text/plain": [
              "array([[8, 1, 0],\n",
              "       [0, 0, 0],\n",
              "       [0, 0, 0]])"
            ]
          },
          "metadata": {
            "tags": []
          },
          "execution_count": 43
        }
      ]
    },
    {
      "cell_type": "code",
      "metadata": {
        "colab": {
          "base_uri": "https://localhost:8080/"
        },
        "id": "GsM_tbACAsRn",
        "outputId": "4980758a-a2a8-41b4-9495-01ae61fddb26"
      },
      "source": [
        "np.power(3,5)"
      ],
      "execution_count": 44,
      "outputs": [
        {
          "output_type": "execute_result",
          "data": {
            "text/plain": [
              "243"
            ]
          },
          "metadata": {
            "tags": []
          },
          "execution_count": 44
        }
      ]
    },
    {
      "cell_type": "code",
      "metadata": {
        "colab": {
          "base_uri": "https://localhost:8080/"
        },
        "id": "aavR013KAsRn",
        "outputId": "f969317e-d416-45e0-e062-6bc0d06145f1"
      },
      "source": [
        "np.hsplit(c,3)"
      ],
      "execution_count": 45,
      "outputs": [
        {
          "output_type": "execute_result",
          "data": {
            "text/plain": [
              "[array([[8],\n",
              "        [0],\n",
              "        [8]]), array([[1],\n",
              "        [0],\n",
              "        [5]]), array([[0],\n",
              "        [8],\n",
              "        [0]])]"
            ]
          },
          "metadata": {
            "tags": []
          },
          "execution_count": 45
        }
      ]
    },
    {
      "cell_type": "code",
      "metadata": {
        "colab": {
          "base_uri": "https://localhost:8080/"
        },
        "id": "QqvGH4wdAsRn",
        "outputId": "f0637038-c075-44ce-d9f7-c7cc62622e66"
      },
      "source": [
        "np.vsplit(c,3)"
      ],
      "execution_count": 46,
      "outputs": [
        {
          "output_type": "execute_result",
          "data": {
            "text/plain": [
              "[array([[8, 1, 0]]), array([[0, 0, 8]]), array([[8, 5, 0]])]"
            ]
          },
          "metadata": {
            "tags": []
          },
          "execution_count": 46
        }
      ]
    },
    {
      "cell_type": "code",
      "metadata": {
        "colab": {
          "base_uri": "https://localhost:8080/"
        },
        "id": "zXQZK0qdAsRo",
        "outputId": "7226345b-d091-42e5-af56-eef7eb8b7e9d"
      },
      "source": [
        "np.absolute(c)"
      ],
      "execution_count": 47,
      "outputs": [
        {
          "output_type": "execute_result",
          "data": {
            "text/plain": [
              "array([[8, 1, 0],\n",
              "       [0, 0, 8],\n",
              "       [8, 5, 0]])"
            ]
          },
          "metadata": {
            "tags": []
          },
          "execution_count": 47
        }
      ]
    },
    {
      "cell_type": "code",
      "metadata": {
        "colab": {
          "base_uri": "https://localhost:8080/"
        },
        "id": "IQimKpXQAsRo",
        "outputId": "32e061da-bda9-4df2-d913-cc43c6407168"
      },
      "source": [
        "np.prod(c)"
      ],
      "execution_count": 48,
      "outputs": [
        {
          "output_type": "execute_result",
          "data": {
            "text/plain": [
              "0"
            ]
          },
          "metadata": {
            "tags": []
          },
          "execution_count": 48
        }
      ]
    },
    {
      "cell_type": "code",
      "metadata": {
        "colab": {
          "base_uri": "https://localhost:8080/"
        },
        "id": "gUHu940VAsRo",
        "outputId": "a89cf5ec-6a0f-47eb-f19f-9f8c96db9312"
      },
      "source": [
        "np.std(c)"
      ],
      "execution_count": 49,
      "outputs": [
        {
          "output_type": "execute_result",
          "data": {
            "text/plain": [
              "3.6209268304000717"
            ]
          },
          "metadata": {
            "tags": []
          },
          "execution_count": 49
        }
      ]
    },
    {
      "cell_type": "code",
      "metadata": {
        "colab": {
          "base_uri": "https://localhost:8080/"
        },
        "id": "-MtzEri2AsRo",
        "outputId": "b26efcb6-e501-4444-defa-685e5b2d1e2c"
      },
      "source": [
        "np.var(c)"
      ],
      "execution_count": 50,
      "outputs": [
        {
          "output_type": "execute_result",
          "data": {
            "text/plain": [
              "13.11111111111111"
            ]
          },
          "metadata": {
            "tags": []
          },
          "execution_count": 50
        }
      ]
    }
  ]
}